{
 "cells": [
  {
   "cell_type": "code",
   "execution_count": 1,
   "metadata": {},
   "outputs": [],
   "source": [
    "import pandas as pd\n",
    "import numpy as np\n",
    "from sklearn.feature_extraction.text import CountVectorizer\n",
    "from sklearn.model_selection import train_test_split\n",
    "from sklearn.naive_bayes import MultinomialNB\n",
    "from sklearn.metrics import classification_report\n",
    "\n",
    "from sklearn.feature_extraction.text import TfidfTransformer"
   ]
  },
  {
   "cell_type": "code",
   "execution_count": 2,
   "metadata": {},
   "outputs": [
    {
     "data": {
      "text/plain": [
       "10"
      ]
     },
     "execution_count": 2,
     "metadata": {},
     "output_type": "execute_result"
    }
   ],
   "source": [
    "df = pd.read_csv('CasesToStudy.csv', encoding=\"latin-1\")\n",
    "len(df)"
   ]
  },
  {
   "cell_type": "code",
   "execution_count": 5,
   "metadata": {
    "scrolled": true
   },
   "outputs": [
    {
     "name": "stdout",
     "output_type": "stream",
     "text": [
      "                   precision    recall  f1-score   support\n",
      "\n",
      "       Statements       1.00      1.00      1.00         1\n",
      "Update AP contact       1.00      1.00      1.00         1\n",
      "              p2p       1.00      1.00      1.00         1\n",
      "\n",
      "         accuracy                           1.00         3\n",
      "        macro avg       1.00      1.00      1.00         3\n",
      "     weighted avg       1.00      1.00      1.00         3\n",
      "\n"
     ]
    },
    {
     "data": {
      "text/plain": [
       "['NB_emailPrediction.pkl']"
      ]
     },
     "execution_count": 5,
     "metadata": {},
     "output_type": "execute_result"
    }
   ],
   "source": [
    "cv = CountVectorizer()\n",
    "x = df['message'].values\n",
    "y = df['caseName'].values\n",
    "x= cv.fit_transform(x) # Fit the Data\n",
    "#in case of testing algorithm this can be done \n",
    "# test_size->represent the proportion of the dataset to include in the test split\n",
    "x_train, x_test, y_train, y_test = train_test_split(x, y, test_size=0.20, random_state=42)\n",
    "#Naive Bayes Classifier\n",
    "clf = MultinomialNB()\n",
    "#clf.fit(x, y)\n",
    "clf.fit(x_train,y_train)\n",
    "\n",
    "# alpha -> Additive Laplace smoothing parameter\n",
    "# fit_prior ->Whether to learn class prior probabilities or not. If false, a uniform prior will be used\n",
    "# class_prior->Prior probabilities of the classes. If specified the priors are not adjusted according to the data.\n",
    "MultinomialNB(alpha=0.5, fit_prior=False, class_prior=None)\n",
    "\n",
    "\n",
    "clf.score(x_test,y_test)\n",
    "y_pred = clf.predict(x_test)\n",
    "print(classification_report(y_test, y_pred))\n",
    "\n",
    "#save model \n",
    "from sklearn.externals import joblib\n",
    "joblib.dump(clf, 'NB_emailPrediction.pkl')\n"
   ]
  },
  {
   "cell_type": "code",
   "execution_count": 4,
   "metadata": {},
   "outputs": [],
   "source": [
    "\n",
    "#import model so we dont have to do it again \n",
    "NB_emailPrediction = open('NB_emailPrediction.pkl','rb')\n",
    "clf = joblib.load(NB_emailPrediction)\n",
    "input_df = pd.read_csv('input.csv', encoding=\"latin-1\")\n",
    "\n",
    "\n",
    "#get input files and do a list\n",
    "messageList =list(input_df['message'].values)\n",
    "fromList =  list(input_df['from'].values)\n",
    "\n",
    "#use model \n",
    "verifier_Wcount = cv.transform(messageList)\n",
    "predictions = clf.predict(verifier_Wcount)\n",
    "prob = clf.predict_proba(verifier_Wcount)\n",
    "\n",
    "#generate output\n",
    "outputDict ={'from': fromList,'message':messageList,'predictions':predictions}\n",
    "outputDf = pd.DataFrame.from_dict(outputDict)\n",
    "outputDf.to_csv(path_or_buf=\"MLresult.csv\", sep=',',index=True)\n"
   ]
  },
  {
   "cell_type": "code",
   "execution_count": null,
   "metadata": {},
   "outputs": [],
   "source": []
  }
 ],
 "metadata": {
  "kernelspec": {
   "display_name": "Python 3",
   "language": "python",
   "name": "python3"
  },
  "language_info": {
   "codemirror_mode": {
    "name": "ipython",
    "version": 3
   },
   "file_extension": ".py",
   "mimetype": "text/x-python",
   "name": "python",
   "nbconvert_exporter": "python",
   "pygments_lexer": "ipython3",
   "version": "3.6.8"
  }
 },
 "nbformat": 4,
 "nbformat_minor": 2
}
