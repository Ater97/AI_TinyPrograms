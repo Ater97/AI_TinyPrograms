{
 "cells": [
  {
   "cell_type": "code",
   "execution_count": 1,
   "metadata": {},
   "outputs": [],
   "source": [
    "import pandas as pd\n",
    "import numpy as np\n",
    "from sklearn.feature_extraction.text import CountVectorizer\n",
    "from sklearn.model_selection import train_test_split\n",
    "from sklearn.naive_bayes import MultinomialNB\n",
    "from sklearn.metrics import classification_report\n"
   ]
  },
  {
   "cell_type": "code",
   "execution_count": 2,
   "metadata": {},
   "outputs": [],
   "source": [
    "df = pd.read_csv('CasesToStudy.csv', encoding=\"latin-1\")\n"
   ]
  },
  {
   "cell_type": "code",
   "execution_count": 3,
   "metadata": {},
   "outputs": [
    {
     "data": {
      "text/plain": [
       "['NB_emailPrediction.pkl']"
      ]
     },
     "execution_count": 3,
     "metadata": {},
     "output_type": "execute_result"
    }
   ],
   "source": [
    "cv = CountVectorizer()\n",
    "x = df['message'].values\n",
    "y = df['caseName'].values\n",
    "counts= cv.fit_transform(x) # Fit the Data\n",
    "#in case of testing algorithm this can be done \n",
    "#X_train, X_test, y_train, y_test = train_test_split(X, y, test_size=0.10, random_state=42)\n",
    "#Naive Bayes Classifier\n",
    "clf = MultinomialNB()\n",
    "clf.fit(counts, y)\n",
    "#save model \n",
    "from sklearn.externals import joblib\n",
    "joblib.dump(clf, 'NB_emailPrediction.pkl')\n"
   ]
  },
  {
   "cell_type": "code",
   "execution_count": 4,
   "metadata": {},
   "outputs": [],
   "source": [
    "#clf.score(X_test,y_test)\n",
    "#import model so we dont have to do it again \n",
    "NB_emailPrediction = open('NB_emailPrediction.pkl','rb')\n",
    "clf = joblib.load(NB_emailPrediction)\n",
    "input_df = pd.read_csv('input.csv', encoding=\"latin-1\")\n",
    "\n",
    "#get input files and do a list\n",
    "messageList =list(input_df['message'].values)\n",
    "fromList =  list(input_df['from'].values)\n",
    "#use model \n",
    "verifier_Wcount = cv.transform(messageList)\n",
    "predictions = clf.predict(verifier_Wcount)\n",
    "#generate output\n",
    "outputDict ={'from': fromList,'message':messageList,'predictions':predictions}\n",
    "outputDf = pd.DataFrame.from_dict(outputDict)\n",
    "outputDf.to_csv(path_or_buf=\"MLresult.csv\", sep=',',index=True)\n"
   ]
  },
  {
   "cell_type": "code",
   "execution_count": null,
   "metadata": {},
   "outputs": [],
   "source": []
  }
 ],
 "metadata": {
  "kernelspec": {
   "display_name": "Python 3",
   "language": "python",
   "name": "python3"
  },
  "language_info": {
   "codemirror_mode": {
    "name": "ipython",
    "version": 3
   },
   "file_extension": ".py",
   "mimetype": "text/x-python",
   "name": "python",
   "nbconvert_exporter": "python",
   "pygments_lexer": "ipython3",
   "version": "3.6.8"
  }
 },
 "nbformat": 4,
 "nbformat_minor": 2
}
