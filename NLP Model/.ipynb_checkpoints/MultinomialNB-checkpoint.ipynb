{
 "cells": [
  {
   "cell_type": "code",
   "execution_count": 1,
   "metadata": {},
   "outputs": [
    {
     "name": "stderr",
     "output_type": "stream",
     "text": [
      "c:\\users\\sorantes\\appdata\\local\\programs\\python\\python36\\lib\\site-packages\\sklearn\\externals\\joblib\\__init__.py:15: DeprecationWarning: sklearn.externals.joblib is deprecated in 0.21 and will be removed in 0.23. Please import this functionality directly from joblib, which can be installed with: pip install joblib. If this warning is raised when loading pickled models, you may need to re-serialize those models with scikit-learn 0.21+.\n",
      "  warnings.warn(msg, category=DeprecationWarning)\n"
     ]
    }
   ],
   "source": [
    "#--Libraries\n",
    "import pandas as pd\n",
    "import numpy as np\n",
    "from sklearn.feature_extraction.text import CountVectorizer\n",
    "from sklearn.model_selection import train_test_split\n",
    "from sklearn.naive_bayes import MultinomialNB\n",
    "from sklearn.metrics import classification_report\n",
    "from sklearn.externals import joblib\n",
    "\n",
    "from sklearn.feature_extraction.text import TfidfTransformer\n",
    "from sklearn.feature_extraction import DictVectorizer\n",
    "\n",
    "cv = CountVectorizer()"
   ]
  },
  {
   "cell_type": "code",
   "execution_count": 2,
   "metadata": {},
   "outputs": [],
   "source": [
    "def createModel(trainigSetPath):\n",
    "    df = pd.read_csv(trainigSetPath, encoding=\"latin-1\")\n",
    "    x = df['message'].values\n",
    "    y = df['caseName'].values\n",
    "    \n",
    "    x= cv.fit_transform(x) # Fit the Data\n",
    "    #Multinomial Naive Bayes Classifier\n",
    "    clf = MultinomialNB()\n",
    "    clf.fit(x, y)\n",
    "    \n",
    "    # alpha -> Additive Laplace smoothing parameter\n",
    "    # fit_prior ->Whether to learn class prior probabilities or not. If false, a uniform prior will be used\n",
    "    # class_prior->Prior probabilities of the classes. If specified the priors are not adjusted according to the data.\n",
    "    MultinomialNB(alpha=1.0, fit_prior=False, class_prior=None) \n",
    "    joblib.dump(clf, 'MNB_emailPrediction.pkl')"
   ]
  },
  {
   "cell_type": "code",
   "execution_count": 3,
   "metadata": {},
   "outputs": [],
   "source": [
    "def loadModel(modelPath, inputPath):\n",
    "    \n",
    "    NB_emailPrediction = open(modelPath,'rb')\n",
    "    clf = joblib.load(NB_emailPrediction)\n",
    "    input_df = pd.read_csv(inputPath, encoding=\"latin-1\")\n",
    "    #get input files and do a list\n",
    "    messageList =list(input_df['message'].values)\n",
    "    fromList =  list(input_df['from'].values)\n",
    "    #use model \n",
    "    verifier_Wcount = cv.transform(messageList)\n",
    "    predictions = clf.predict(verifier_Wcount)\n",
    "    #generate output\n",
    "    outputDict ={'from': fromList,'message':messageList,'predictions':predictions}\n",
    "    outputDf = pd.DataFrame.from_dict(outputDict)\n",
    "    outputDf.to_csv(path_or_buf=\"MLresult.csv\", sep=',',index=True)\n"
   ]
  },
  {
   "cell_type": "code",
   "execution_count": 4,
   "metadata": {},
   "outputs": [],
   "source": [
    "createModel('CasesToStudy.csv')"
   ]
  },
  {
   "cell_type": "code",
   "execution_count": 5,
   "metadata": {},
   "outputs": [],
   "source": [
    "loadModel('MNB_emailPrediction.pkl','input.csv')"
   ]
  }
 ],
 "metadata": {
  "kernelspec": {
   "display_name": "Python 3",
   "language": "python",
   "name": "python3"
  },
  "language_info": {
   "codemirror_mode": {
    "name": "ipython",
    "version": 3
   },
   "file_extension": ".py",
   "mimetype": "text/x-python",
   "name": "python",
   "nbconvert_exporter": "python",
   "pygments_lexer": "ipython3",
   "version": "3.6.8"
  }
 },
 "nbformat": 4,
 "nbformat_minor": 2
}
